{
 "cells": [
  {
   "cell_type": "code",
   "execution_count": 35,
   "metadata": {},
   "outputs": [],
   "source": [
    "import cv2 as cv\n",
    "import numpy as np\n",
    "\n",
    "# Tọa độ hình chữ nhật\n",
    "rect_start = None\n",
    "rect_end = None\n",
    "drawing = False\n",
    "\n",
    "# Tạo ảnh nền trắng\n",
    "image = np.ones((1920, 1080, 3), dtype=np.uint8) * 255\n",
    "\n",
    "# Các thông số để transformation\n",
    "rect_coords = None\n",
    "trans_x = 0\n",
    "trans_y = 0\n",
    "rotation_angle = 0\n",
    "scale_x = 1.0\n",
    "scale_y = 1.0\n",
    "apply_transforms = False"
   ]
  },
  {
   "cell_type": "code",
   "execution_count": 36,
   "metadata": {},
   "outputs": [],
   "source": [
    "# Hàm vẽ hình chữ nhật\n",
    "def draw_rectangle(event, x, y, flags, param):\n",
    "    global rect_start, rect_end, drawing, image, rect_coords, apply_transforms\n",
    "    \n",
    "    if event == cv.EVENT_LBUTTONDOWN:\n",
    "        drawing = True\n",
    "        rect_start = (x, y)\n",
    "    \n",
    "    elif event == cv.EVENT_MOUSEMOVE:\n",
    "        if drawing:\n",
    "            img_copy = image.copy()\n",
    "            cv.rectangle(img_copy, rect_start, (x, y), (0, 255, 0), 2)\n",
    "            cv.imshow(\"Draw Rectangle\", img_copy)\n",
    "    \n",
    "    elif event == cv.EVENT_LBUTTONUP:\n",
    "        drawing = False\n",
    "        rect_end = (x, y)\n",
    "        cv.rectangle(image, rect_start, rect_end, (0, 255, 0), 2)\n",
    "        rect_coords = (rect_start, rect_end)\n",
    "        apply_transforms = True  # True thì bắt đầu biến đổi được\n",
    "        cv.imshow(\"Draw Rectangle\", image)"
   ]
  },
  {
   "cell_type": "code",
   "execution_count": 37,
   "metadata": {},
   "outputs": [],
   "source": [
    "# Hàm update khi translate\n",
    "def update_translation(_):\n",
    "    global trans_x, trans_y, apply_transforms\n",
    "    trans_x = cv.getTrackbarPos('Trans X', 'Draw Rectangle')\n",
    "    trans_y = cv.getTrackbarPos('Trans Y', 'Draw Rectangle')\n",
    "    apply_transforms = True\n",
    "\n",
    "# Hàm update khi rotate\n",
    "def update_rotation(_):\n",
    "    global rotation_angle, apply_transforms\n",
    "    rotation_angle = cv.getTrackbarPos('Rotation', 'Draw Rectangle')\n",
    "    apply_transforms = True\n",
    "\n",
    "# Hàm update khi scale\n",
    "def update_scale(_):\n",
    "    global scale_x, scale_y, apply_transforms\n",
    "    scale_x = cv.getTrackbarPos('Scale X', 'Draw Rectangle') / 100.0\n",
    "    scale_y = cv.getTrackbarPos('Scale Y', 'Draw Rectangle') / 100.0\n",
    "    apply_transforms = True"
   ]
  },
  {
   "cell_type": "code",
   "execution_count": 38,
   "metadata": {},
   "outputs": [],
   "source": [
    "# Hàm chuyển đổi các vị trí để cập nhật hình chữ nhật\n",
    "import numpy as np\n",
    "import cv2 as cv\n",
    "\n",
    "def apply_transformations():\n",
    "    global image, rect_coords, trans_x, trans_y, rotation_angle, scale_x, scale_y, apply_transforms\n",
    "    \n",
    "    if rect_coords is not None and apply_transforms:\n",
    "        p1, p2 = rect_coords\n",
    "        img_copy = np.ones_like(image) * 255\n",
    "\n",
    "        # Translation\n",
    "        new_p1 = (p1[0] + trans_x, p1[1] + trans_y)\n",
    "        new_p2 = (p2[0] + trans_x, p2[1] + trans_y)\n",
    "\n",
    "        # Tọa độ 4 góc của hình chữ nhật đã được dịch\n",
    "        rect_points = np.array([[new_p1[0], new_p1[1]],\n",
    "                                [new_p2[0], new_p1[1]],\n",
    "                                [new_p2[0], new_p2[1]],\n",
    "                                [new_p1[0], new_p2[1]]], dtype=np.float32)\n",
    "\n",
    "        # Scalation bằng cách dùng tâm hình chữ nhật\n",
    "        center = np.mean(rect_points, axis=0)\n",
    "        scaled_points = []\n",
    "        for p in rect_points:\n",
    "            scaled_p = center + (p - center) * np.array([scale_x, scale_y])\n",
    "            scaled_points.append(scaled_p)\n",
    "\n",
    "        scaled_points = np.array(scaled_points, dtype=np.float32)\n",
    "\n",
    "        # Ma trận xoay\n",
    "        rotation_angle_rad = np.radians(rotation_angle)  # Chuyển đổi góc sang radian\n",
    "        theta = np.array([[np.cos(rotation_angle_rad), -np.sin(rotation_angle_rad)],\n",
    "                          [np.sin(rotation_angle_rad), np.cos(rotation_angle_rad)]])\n",
    "\n",
    "        # Xoay các điểm hình chữ nhật quanh tâm\n",
    "        rotated_points = []\n",
    "        for p in scaled_points:\n",
    "            rotated_p = theta @ (p - center) + center\n",
    "            rotated_points.append(rotated_p)\n",
    "\n",
    "        rotated_points = np.array(rotated_points, dtype=np.int32)\n",
    "\n",
    "        # Vẽ hình chữ nhật đã được xoay\n",
    "        cv.polylines(img_copy, [rotated_points], isClosed=True, color=(0, 255, 0), thickness=2)\n",
    "\n",
    "        # Hiển thị hình chữ nhật đã được dịch, scale và xoay\n",
    "        cv.imshow(\"Draw Rectangle\", img_copy)\n",
    "\n",
    "        apply_transforms = False"
   ]
  },
  {
   "cell_type": "code",
   "execution_count": 39,
   "metadata": {},
   "outputs": [
    {
     "ename": "error",
     "evalue": "OpenCV(4.10.0) D:\\a\\opencv-python\\opencv-python\\opencv\\modules\\highgui\\src\\window.cpp:868: error: (-215:Assertion failed) trackbar in function 'cv::getTrackbarPos'\n",
     "output_type": "error",
     "traceback": [
      "\u001b[1;31m---------------------------------------------------------------------------\u001b[0m",
      "\u001b[1;31merror\u001b[0m                                     Traceback (most recent call last)",
      "Cell \u001b[1;32mIn[37], line 18\u001b[0m, in \u001b[0;36mupdate_scale\u001b[1;34m(_)\u001b[0m\n\u001b[0;32m     16\u001b[0m \u001b[38;5;28;01mglobal\u001b[39;00m scale_x, scale_y, apply_transforms\n\u001b[0;32m     17\u001b[0m scale_x \u001b[38;5;241m=\u001b[39m cv\u001b[38;5;241m.\u001b[39mgetTrackbarPos(\u001b[38;5;124m'\u001b[39m\u001b[38;5;124mScale X\u001b[39m\u001b[38;5;124m'\u001b[39m, \u001b[38;5;124m'\u001b[39m\u001b[38;5;124mDraw Rectangle\u001b[39m\u001b[38;5;124m'\u001b[39m) \u001b[38;5;241m/\u001b[39m \u001b[38;5;241m100.0\u001b[39m\n\u001b[1;32m---> 18\u001b[0m scale_y \u001b[38;5;241m=\u001b[39m cv\u001b[38;5;241m.\u001b[39mgetTrackbarPos(\u001b[38;5;124m'\u001b[39m\u001b[38;5;124mScale Y\u001b[39m\u001b[38;5;124m'\u001b[39m, \u001b[38;5;124m'\u001b[39m\u001b[38;5;124mDraw Rectangle\u001b[39m\u001b[38;5;124m'\u001b[39m) \u001b[38;5;241m/\u001b[39m \u001b[38;5;241m100.0\u001b[39m\n\u001b[0;32m     19\u001b[0m apply_transforms \u001b[38;5;241m=\u001b[39m \u001b[38;5;28;01mTrue\u001b[39;00m\n",
      "\u001b[1;31merror\u001b[0m: OpenCV(4.10.0) D:\\a\\opencv-python\\opencv-python\\opencv\\modules\\highgui\\src\\window.cpp:868: error: (-215:Assertion failed) trackbar in function 'cv::getTrackbarPos'\n"
     ]
    },
    {
     "ename": "KeyboardInterrupt",
     "evalue": "",
     "output_type": "error",
     "traceback": [
      "\u001b[1;31m---------------------------------------------------------------------------\u001b[0m",
      "\u001b[1;31mKeyboardInterrupt\u001b[0m                         Traceback (most recent call last)",
      "Cell \u001b[1;32mIn[39], line 16\u001b[0m\n\u001b[0;32m     13\u001b[0m \u001b[38;5;28;01mif\u001b[39;00m apply_transforms:\n\u001b[0;32m     14\u001b[0m     apply_transformations()\n\u001b[1;32m---> 16\u001b[0m key \u001b[38;5;241m=\u001b[39m cv\u001b[38;5;241m.\u001b[39mwaitKey(\u001b[38;5;241m1\u001b[39m) \u001b[38;5;241m&\u001b[39m \u001b[38;5;241m0xFF\u001b[39m\n\u001b[0;32m     17\u001b[0m \u001b[38;5;28;01mif\u001b[39;00m key \u001b[38;5;241m==\u001b[39m \u001b[38;5;241m27\u001b[39m: \n\u001b[0;32m     18\u001b[0m     \u001b[38;5;28;01mbreak\u001b[39;00m\n",
      "\u001b[1;31mKeyboardInterrupt\u001b[0m: "
     ]
    }
   ],
   "source": [
    "# Tạo window và trackbar để nhận thông tin\n",
    "cv.namedWindow(\"Draw Rectangle\")\n",
    "cv.setMouseCallback(\"Draw Rectangle\", draw_rectangle)\n",
    "\n",
    "# Các trackbar cập nhật thông tin\n",
    "cv.createTrackbar('Trans X', 'Draw Rectangle', 0, 200, update_translation)\n",
    "cv.createTrackbar('Trans Y', 'Draw Rectangle', 0, 200, update_translation)\n",
    "cv.createTrackbar('Rotation', 'Draw Rectangle', 0, 360, update_rotation)\n",
    "cv.createTrackbar('Scale X', 'Draw Rectangle', 100, 200, update_scale)  # Default is 1.0 (100%)\n",
    "cv.createTrackbar('Scale Y', 'Draw Rectangle', 100, 200, update_scale)\n",
    "\n",
    "while True:\n",
    "    if apply_transforms:\n",
    "        apply_transformations()\n",
    "    \n",
    "    key = cv.waitKey(1) & 0xFF\n",
    "    if key == 27: \n",
    "        break\n",
    "\n",
    "cv.destroyAllWindows()"
   ]
  }
 ],
 "metadata": {
  "kernelspec": {
   "display_name": "base",
   "language": "python",
   "name": "python3"
  },
  "language_info": {
   "codemirror_mode": {
    "name": "ipython",
    "version": 3
   },
   "file_extension": ".py",
   "mimetype": "text/x-python",
   "name": "python",
   "nbconvert_exporter": "python",
   "pygments_lexer": "ipython3",
   "version": "3.11.7"
  }
 },
 "nbformat": 4,
 "nbformat_minor": 2
}
